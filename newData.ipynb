{
  "nbformat": 4,
  "nbformat_minor": 0,
  "metadata": {
    "colab": {
      "provenance": [],
      "collapsed_sections": [],
      "authorship_tag": "ABX9TyP3OSvMx9v1IVikqL1TWQ4d",
      "include_colab_link": true
    },
    "kernelspec": {
      "name": "python3",
      "display_name": "Python 3"
    },
    "language_info": {
      "name": "python"
    }
  },
  "cells": [
    {
      "cell_type": "markdown",
      "metadata": {
        "id": "view-in-github",
        "colab_type": "text"
      },
      "source": [
        "<a href=\"https://colab.research.google.com/github/Dri-anS/AMS/blob/main/newData.ipynb\" target=\"_parent\"><img src=\"https://colab.research.google.com/assets/colab-badge.svg\" alt=\"Open In Colab\"/></a>"
      ]
    },
    {
      "cell_type": "code",
      "source": [
        "import pandas as pd\n",
        "import time\n",
        "import tweepy\n",
        "import numpy as np"
      ],
      "metadata": {
        "id": "CAPdk_m2OPaA"
      },
      "execution_count": 4,
      "outputs": []
    },
    {
      "cell_type": "code",
      "execution_count": 5,
      "metadata": {
        "id": "DvO1DV5oNiSL"
      },
      "outputs": [],
      "source": [
        "def twitter_config():\n",
        "    \"\"\"\n",
        "    Fungsi utilitas untuk mengkonfigurasi konsumsi file API Twitter dengan␣\n",
        "    ,!kunci yang disediakan.\n",
        "    \"\"\"\n",
        "    # Otentikasi dan akses menggunakan kunci:\n",
        "    auth = tweepy.OAuthHandler(\"XGGIQ7T9WRg3JpBJOrX7NfkbE\",\n",
        "    \"iQSaKgVIekk7kq9P7f96fkPqcN5tO8xGBfpFQac9pd6aav2nho\")\n",
        "    auth.set_access_token(\"1575101006647795714-8U17W8fWcPeKn1idEC5YcsnS03IvjL\",\n",
        "    \"k00NRCbQnI8SOMDUre1Axi4cFq48N1oPQtaW09Gc9naGR\")\n",
        "    # Kembalikan akses ke API:\n",
        "    api = tweepy.API(auth)\n",
        "    try:\n",
        "        api.verify_credentials()\n",
        "        print(\"Authentication OK\")\n",
        "    except:\n",
        "        print(\"Error during authentication\")\n",
        "    return api"
      ]
    },
    {
      "cell_type": "code",
      "source": [
        "extractor = twitter_config()"
      ],
      "metadata": {
        "colab": {
          "base_uri": "https://localhost:8080/",
          "height": 0
        },
        "id": "TwrhNlUqOERq",
        "outputId": "16c56d02-89a1-4d64-b122-e6280346e1e7"
      },
      "execution_count": 6,
      "outputs": [
        {
          "output_type": "stream",
          "name": "stdout",
          "text": [
            "Authentication OK\n"
          ]
        }
      ]
    },
    {
      "cell_type": "code",
      "source": [
        "tweets = extractor.user_timeline(screen_name=\"HarryMaguire93\", count=1000)\n",
        "print(\"Tweets terambil: {}.\\n\".format(len(tweets)))\n",
        "\n",
        "\n",
        "print(\"5 tweet teratas:\\n\")\n",
        "for tweet in tweets[:5]:\n",
        "    print(tweet.text)\n",
        "    print()"
      ],
      "metadata": {
        "colab": {
          "base_uri": "https://localhost:8080/",
          "height": 0
        },
        "id": "rCjmiZOTOo-s",
        "outputId": "fc4f05af-2d29-4f70-f293-17595b5c32f2"
      },
      "execution_count": 7,
      "outputs": [
        {
          "output_type": "stream",
          "name": "stdout",
          "text": [
            "Tweets terambil: 200.\n",
            "\n",
            "5 tweet teratas:\n",
            "\n",
            "👏🏼👏🏼👏🏼 https://t.co/nI9FOJEZt4\n",
            "\n",
            "RT @England: We are uniting with nine other European countries in support of OneLove, a campaign that will use the power of football to pro…\n",
            "\n",
            "🏴󠁧󠁢󠁥󠁮󠁧󠁿👌🏼 @England https://t.co/aDb1xMcqyK\n",
            "\n",
            "RT @ManUtd: In memory of Her Majesty Queen Elizabeth II. https://t.co/Iw7Rkfy3Tt\n",
            "\n",
            "Great team effort. Thanks to the fans who travelled so far, as always you were unbelievable 🔴⚫️⚪️ #mufc https://t.co/ov8DxynYcU\n",
            "\n"
          ]
        }
      ]
    },
    {
      "cell_type": "code",
      "source": [
        "dataset = pd.DataFrame(data=[tweet.text for tweet in tweets], columns=['Tweets'])\n",
        "\n",
        "# Kami membuat tampilan kerangka data:\n",
        "display(dataset.head(10))"
      ],
      "metadata": {
        "colab": {
          "base_uri": "https://localhost:8080/",
          "height": 363
        },
        "id": "Hd4HbKIvjnB1",
        "outputId": "ddf1c2c5-3d55-4bbc-d7e5-00c0c6285339"
      },
      "execution_count": 8,
      "outputs": [
        {
          "output_type": "display_data",
          "data": {
            "text/plain": [
              "                                              Tweets\n",
              "0                     👏🏼👏🏼👏🏼 https://t.co/nI9FOJEZt4\n",
              "1  RT @England: We are uniting with nine other Eu...\n",
              "2         🏴󠁧󠁢󠁥󠁮󠁧󠁿👌🏼 @England https://t.co/aDb1xMcqyK\n",
              "3  RT @ManUtd: In memory of Her Majesty Queen Eli...\n",
              "4  Great team effort. Thanks to the fans who trav...\n",
              "5  RT @ManUtd: A final Carrington workout before ...\n",
              "6  Rest in peace, Her Majesty The Queen. Thoughts...\n",
              "7  RT @ManUtd: Target practice 🎯\\n\\n#MUFC https:/...\n",
              "8  Well done lads great team effort. 💪🏼 \\n\\nFans ...\n",
              "9  RT @ManUtd: Racing towards our next #PL matchd..."
            ],
            "text/html": [
              "\n",
              "  <div id=\"df-11fa305d-3345-4c25-8422-17dfcc368fb3\">\n",
              "    <div class=\"colab-df-container\">\n",
              "      <div>\n",
              "<style scoped>\n",
              "    .dataframe tbody tr th:only-of-type {\n",
              "        vertical-align: middle;\n",
              "    }\n",
              "\n",
              "    .dataframe tbody tr th {\n",
              "        vertical-align: top;\n",
              "    }\n",
              "\n",
              "    .dataframe thead th {\n",
              "        text-align: right;\n",
              "    }\n",
              "</style>\n",
              "<table border=\"1\" class=\"dataframe\">\n",
              "  <thead>\n",
              "    <tr style=\"text-align: right;\">\n",
              "      <th></th>\n",
              "      <th>Tweets</th>\n",
              "    </tr>\n",
              "  </thead>\n",
              "  <tbody>\n",
              "    <tr>\n",
              "      <th>0</th>\n",
              "      <td>👏🏼👏🏼👏🏼 https://t.co/nI9FOJEZt4</td>\n",
              "    </tr>\n",
              "    <tr>\n",
              "      <th>1</th>\n",
              "      <td>RT @England: We are uniting with nine other Eu...</td>\n",
              "    </tr>\n",
              "    <tr>\n",
              "      <th>2</th>\n",
              "      <td>🏴󠁧󠁢󠁥󠁮󠁧󠁿👌🏼 @England https://t.co/aDb1xMcqyK</td>\n",
              "    </tr>\n",
              "    <tr>\n",
              "      <th>3</th>\n",
              "      <td>RT @ManUtd: In memory of Her Majesty Queen Eli...</td>\n",
              "    </tr>\n",
              "    <tr>\n",
              "      <th>4</th>\n",
              "      <td>Great team effort. Thanks to the fans who trav...</td>\n",
              "    </tr>\n",
              "    <tr>\n",
              "      <th>5</th>\n",
              "      <td>RT @ManUtd: A final Carrington workout before ...</td>\n",
              "    </tr>\n",
              "    <tr>\n",
              "      <th>6</th>\n",
              "      <td>Rest in peace, Her Majesty The Queen. Thoughts...</td>\n",
              "    </tr>\n",
              "    <tr>\n",
              "      <th>7</th>\n",
              "      <td>RT @ManUtd: Target practice 🎯\\n\\n#MUFC https:/...</td>\n",
              "    </tr>\n",
              "    <tr>\n",
              "      <th>8</th>\n",
              "      <td>Well done lads great team effort. 💪🏼 \\n\\nFans ...</td>\n",
              "    </tr>\n",
              "    <tr>\n",
              "      <th>9</th>\n",
              "      <td>RT @ManUtd: Racing towards our next #PL matchd...</td>\n",
              "    </tr>\n",
              "  </tbody>\n",
              "</table>\n",
              "</div>\n",
              "      <button class=\"colab-df-convert\" onclick=\"convertToInteractive('df-11fa305d-3345-4c25-8422-17dfcc368fb3')\"\n",
              "              title=\"Convert this dataframe to an interactive table.\"\n",
              "              style=\"display:none;\">\n",
              "        \n",
              "  <svg xmlns=\"http://www.w3.org/2000/svg\" height=\"24px\"viewBox=\"0 0 24 24\"\n",
              "       width=\"24px\">\n",
              "    <path d=\"M0 0h24v24H0V0z\" fill=\"none\"/>\n",
              "    <path d=\"M18.56 5.44l.94 2.06.94-2.06 2.06-.94-2.06-.94-.94-2.06-.94 2.06-2.06.94zm-11 1L8.5 8.5l.94-2.06 2.06-.94-2.06-.94L8.5 2.5l-.94 2.06-2.06.94zm10 10l.94 2.06.94-2.06 2.06-.94-2.06-.94-.94-2.06-.94 2.06-2.06.94z\"/><path d=\"M17.41 7.96l-1.37-1.37c-.4-.4-.92-.59-1.43-.59-.52 0-1.04.2-1.43.59L10.3 9.45l-7.72 7.72c-.78.78-.78 2.05 0 2.83L4 21.41c.39.39.9.59 1.41.59.51 0 1.02-.2 1.41-.59l7.78-7.78 2.81-2.81c.8-.78.8-2.07 0-2.86zM5.41 20L4 18.59l7.72-7.72 1.47 1.35L5.41 20z\"/>\n",
              "  </svg>\n",
              "      </button>\n",
              "      \n",
              "  <style>\n",
              "    .colab-df-container {\n",
              "      display:flex;\n",
              "      flex-wrap:wrap;\n",
              "      gap: 12px;\n",
              "    }\n",
              "\n",
              "    .colab-df-convert {\n",
              "      background-color: #E8F0FE;\n",
              "      border: none;\n",
              "      border-radius: 50%;\n",
              "      cursor: pointer;\n",
              "      display: none;\n",
              "      fill: #1967D2;\n",
              "      height: 32px;\n",
              "      padding: 0 0 0 0;\n",
              "      width: 32px;\n",
              "    }\n",
              "\n",
              "    .colab-df-convert:hover {\n",
              "      background-color: #E2EBFA;\n",
              "      box-shadow: 0px 1px 2px rgba(60, 64, 67, 0.3), 0px 1px 3px 1px rgba(60, 64, 67, 0.15);\n",
              "      fill: #174EA6;\n",
              "    }\n",
              "\n",
              "    [theme=dark] .colab-df-convert {\n",
              "      background-color: #3B4455;\n",
              "      fill: #D2E3FC;\n",
              "    }\n",
              "\n",
              "    [theme=dark] .colab-df-convert:hover {\n",
              "      background-color: #434B5C;\n",
              "      box-shadow: 0px 1px 3px 1px rgba(0, 0, 0, 0.15);\n",
              "      filter: drop-shadow(0px 1px 2px rgba(0, 0, 0, 0.3));\n",
              "      fill: #FFFFFF;\n",
              "    }\n",
              "  </style>\n",
              "\n",
              "      <script>\n",
              "        const buttonEl =\n",
              "          document.querySelector('#df-11fa305d-3345-4c25-8422-17dfcc368fb3 button.colab-df-convert');\n",
              "        buttonEl.style.display =\n",
              "          google.colab.kernel.accessAllowed ? 'block' : 'none';\n",
              "\n",
              "        async function convertToInteractive(key) {\n",
              "          const element = document.querySelector('#df-11fa305d-3345-4c25-8422-17dfcc368fb3');\n",
              "          const dataTable =\n",
              "            await google.colab.kernel.invokeFunction('convertToInteractive',\n",
              "                                                     [key], {});\n",
              "          if (!dataTable) return;\n",
              "\n",
              "          const docLinkHtml = 'Like what you see? Visit the ' +\n",
              "            '<a target=\"_blank\" href=https://colab.research.google.com/notebooks/data_table.ipynb>data table notebook</a>'\n",
              "            + ' to learn more about interactive tables.';\n",
              "          element.innerHTML = '';\n",
              "          dataTable['output_type'] = 'display_data';\n",
              "          await google.colab.output.renderOutput(dataTable, element);\n",
              "          const docLink = document.createElement('div');\n",
              "          docLink.innerHTML = docLinkHtml;\n",
              "          element.appendChild(docLink);\n",
              "        }\n",
              "      </script>\n",
              "    </div>\n",
              "  </div>\n",
              "  "
            ]
          },
          "metadata": {}
        }
      ]
    },
    {
      "cell_type": "code",
      "source": [
        "print(dir(tweets[0]))"
      ],
      "metadata": {
        "colab": {
          "base_uri": "https://localhost:8080/",
          "height": 0
        },
        "id": "9ET7j-bOjxxn",
        "outputId": "004362d9-34b8-4bf0-f6c0-7efa51b52a5d"
      },
      "execution_count": 9,
      "outputs": [
        {
          "output_type": "stream",
          "name": "stdout",
          "text": [
            "['__class__', '__delattr__', '__dict__', '__dir__', '__doc__', '__eq__', '__format__', '__ge__', '__getattribute__', '__getstate__', '__gt__', '__hash__', '__init__', '__init_subclass__', '__le__', '__lt__', '__module__', '__ne__', '__new__', '__reduce__', '__reduce_ex__', '__repr__', '__setattr__', '__sizeof__', '__str__', '__subclasshook__', '__weakref__', '_api', '_json', 'author', 'contributors', 'coordinates', 'created_at', 'destroy', 'entities', 'favorite', 'favorite_count', 'favorited', 'geo', 'id', 'id_str', 'in_reply_to_screen_name', 'in_reply_to_status_id', 'in_reply_to_status_id_str', 'in_reply_to_user_id', 'in_reply_to_user_id_str', 'is_quote_status', 'lang', 'parse', 'parse_list', 'place', 'possibly_sensitive', 'quoted_status', 'quoted_status_id', 'quoted_status_id_str', 'retweet', 'retweet_count', 'retweeted', 'retweets', 'source', 'source_url', 'text', 'truncated', 'user']\n"
          ]
        }
      ]
    },
    {
      "cell_type": "code",
      "source": [
        "print(tweets[0].id)\n",
        "print(tweets[0].created_at)\n",
        "print(tweets[0].source)\n",
        "print(tweets[0].favorite_count)\n",
        "print(tweets[0].retweet_count)\n",
        "print(tweets[0].geo)\n",
        "print(tweets[0].coordinates)\n",
        "print(tweets[0].entities)"
      ],
      "metadata": {
        "colab": {
          "base_uri": "https://localhost:8080/",
          "height": 0
        },
        "id": "jaAutjDSj49Z",
        "outputId": "1ec1d2d3-8b82-44f6-c015-8655cd4c1cf0"
      },
      "execution_count": 10,
      "outputs": [
        {
          "output_type": "stream",
          "name": "stdout",
          "text": [
            "1579499267403960320\n",
            "2022-10-10 15:49:05\n",
            "Twitter for iPhone\n",
            "15074\n",
            "564\n",
            "None\n",
            "None\n",
            "{'hashtags': [], 'symbols': [], 'user_mentions': [], 'urls': [{'url': 'https://t.co/nI9FOJEZt4', 'expanded_url': 'https://twitter.com/manutd/status/1579470190588620800', 'display_url': 'twitter.com/manutd/status/…', 'indices': [7, 30]}]}\n"
          ]
        }
      ]
    },
    {
      "cell_type": "code",
      "source": [
        "dataset['len'] = np.array([len(tweet.text) for tweet in tweets])\n",
        "dataset['ID']  = np.array([tweet.id for tweet in tweets])\n",
        "dataset['Created'] = np.array([tweet.created_at for tweet in tweets])\n",
        "dataset['Source'] = np.array([tweet.source for tweet in tweets])\n",
        "dataset['Likes']  = np.array([tweet.favorite_count for tweet in tweets])\n",
        "dataset['RTs']    = np.array([tweet.retweet_count for tweet in tweets])"
      ],
      "metadata": {
        "id": "1WwYYpeij-WA"
      },
      "execution_count": 11,
      "outputs": []
    },
    {
      "cell_type": "code",
      "source": [
        "dataset.head()"
      ],
      "metadata": {
        "colab": {
          "base_uri": "https://localhost:8080/",
          "height": 206
        },
        "id": "cfziyM6GkE07",
        "outputId": "cd7247ce-93ee-412a-f8aa-e4d30ed5f393"
      },
      "execution_count": 12,
      "outputs": [
        {
          "output_type": "execute_result",
          "data": {
            "text/plain": [
              "                                              Tweets  len  \\\n",
              "0                     👏🏼👏🏼👏🏼 https://t.co/nI9FOJEZt4   30   \n",
              "1  RT @England: We are uniting with nine other Eu...  140   \n",
              "2         🏴󠁧󠁢󠁥󠁮󠁧󠁿👌🏼 @England https://t.co/aDb1xMcqyK   42   \n",
              "3  RT @ManUtd: In memory of Her Majesty Queen Eli...   80   \n",
              "4  Great team effort. Thanks to the fans who trav...  127   \n",
              "\n",
              "                    ID             Created              Source  Likes   RTs  \n",
              "0  1579499267403960320 2022-10-10 15:49:05  Twitter for iPhone  15074   564  \n",
              "1  1572568697822400514 2022-09-21 12:49:29  Twitter for iPhone      0   234  \n",
              "2  1572568571909373954 2022-09-21 12:48:59  Twitter for iPhone  45800  1769  \n",
              "3  1571802917971148801 2022-09-19 10:06:32  Twitter for iPhone      0  2599  \n",
              "4  1570507523656134656 2022-09-15 20:19:06  Twitter for iPhone  23937   843  "
            ],
            "text/html": [
              "\n",
              "  <div id=\"df-7239645f-22a1-4b5c-9e33-30d599ed24a5\">\n",
              "    <div class=\"colab-df-container\">\n",
              "      <div>\n",
              "<style scoped>\n",
              "    .dataframe tbody tr th:only-of-type {\n",
              "        vertical-align: middle;\n",
              "    }\n",
              "\n",
              "    .dataframe tbody tr th {\n",
              "        vertical-align: top;\n",
              "    }\n",
              "\n",
              "    .dataframe thead th {\n",
              "        text-align: right;\n",
              "    }\n",
              "</style>\n",
              "<table border=\"1\" class=\"dataframe\">\n",
              "  <thead>\n",
              "    <tr style=\"text-align: right;\">\n",
              "      <th></th>\n",
              "      <th>Tweets</th>\n",
              "      <th>len</th>\n",
              "      <th>ID</th>\n",
              "      <th>Created</th>\n",
              "      <th>Source</th>\n",
              "      <th>Likes</th>\n",
              "      <th>RTs</th>\n",
              "    </tr>\n",
              "  </thead>\n",
              "  <tbody>\n",
              "    <tr>\n",
              "      <th>0</th>\n",
              "      <td>👏🏼👏🏼👏🏼 https://t.co/nI9FOJEZt4</td>\n",
              "      <td>30</td>\n",
              "      <td>1579499267403960320</td>\n",
              "      <td>2022-10-10 15:49:05</td>\n",
              "      <td>Twitter for iPhone</td>\n",
              "      <td>15074</td>\n",
              "      <td>564</td>\n",
              "    </tr>\n",
              "    <tr>\n",
              "      <th>1</th>\n",
              "      <td>RT @England: We are uniting with nine other Eu...</td>\n",
              "      <td>140</td>\n",
              "      <td>1572568697822400514</td>\n",
              "      <td>2022-09-21 12:49:29</td>\n",
              "      <td>Twitter for iPhone</td>\n",
              "      <td>0</td>\n",
              "      <td>234</td>\n",
              "    </tr>\n",
              "    <tr>\n",
              "      <th>2</th>\n",
              "      <td>🏴󠁧󠁢󠁥󠁮󠁧󠁿👌🏼 @England https://t.co/aDb1xMcqyK</td>\n",
              "      <td>42</td>\n",
              "      <td>1572568571909373954</td>\n",
              "      <td>2022-09-21 12:48:59</td>\n",
              "      <td>Twitter for iPhone</td>\n",
              "      <td>45800</td>\n",
              "      <td>1769</td>\n",
              "    </tr>\n",
              "    <tr>\n",
              "      <th>3</th>\n",
              "      <td>RT @ManUtd: In memory of Her Majesty Queen Eli...</td>\n",
              "      <td>80</td>\n",
              "      <td>1571802917971148801</td>\n",
              "      <td>2022-09-19 10:06:32</td>\n",
              "      <td>Twitter for iPhone</td>\n",
              "      <td>0</td>\n",
              "      <td>2599</td>\n",
              "    </tr>\n",
              "    <tr>\n",
              "      <th>4</th>\n",
              "      <td>Great team effort. Thanks to the fans who trav...</td>\n",
              "      <td>127</td>\n",
              "      <td>1570507523656134656</td>\n",
              "      <td>2022-09-15 20:19:06</td>\n",
              "      <td>Twitter for iPhone</td>\n",
              "      <td>23937</td>\n",
              "      <td>843</td>\n",
              "    </tr>\n",
              "  </tbody>\n",
              "</table>\n",
              "</div>\n",
              "      <button class=\"colab-df-convert\" onclick=\"convertToInteractive('df-7239645f-22a1-4b5c-9e33-30d599ed24a5')\"\n",
              "              title=\"Convert this dataframe to an interactive table.\"\n",
              "              style=\"display:none;\">\n",
              "        \n",
              "  <svg xmlns=\"http://www.w3.org/2000/svg\" height=\"24px\"viewBox=\"0 0 24 24\"\n",
              "       width=\"24px\">\n",
              "    <path d=\"M0 0h24v24H0V0z\" fill=\"none\"/>\n",
              "    <path d=\"M18.56 5.44l.94 2.06.94-2.06 2.06-.94-2.06-.94-.94-2.06-.94 2.06-2.06.94zm-11 1L8.5 8.5l.94-2.06 2.06-.94-2.06-.94L8.5 2.5l-.94 2.06-2.06.94zm10 10l.94 2.06.94-2.06 2.06-.94-2.06-.94-.94-2.06-.94 2.06-2.06.94z\"/><path d=\"M17.41 7.96l-1.37-1.37c-.4-.4-.92-.59-1.43-.59-.52 0-1.04.2-1.43.59L10.3 9.45l-7.72 7.72c-.78.78-.78 2.05 0 2.83L4 21.41c.39.39.9.59 1.41.59.51 0 1.02-.2 1.41-.59l7.78-7.78 2.81-2.81c.8-.78.8-2.07 0-2.86zM5.41 20L4 18.59l7.72-7.72 1.47 1.35L5.41 20z\"/>\n",
              "  </svg>\n",
              "      </button>\n",
              "      \n",
              "  <style>\n",
              "    .colab-df-container {\n",
              "      display:flex;\n",
              "      flex-wrap:wrap;\n",
              "      gap: 12px;\n",
              "    }\n",
              "\n",
              "    .colab-df-convert {\n",
              "      background-color: #E8F0FE;\n",
              "      border: none;\n",
              "      border-radius: 50%;\n",
              "      cursor: pointer;\n",
              "      display: none;\n",
              "      fill: #1967D2;\n",
              "      height: 32px;\n",
              "      padding: 0 0 0 0;\n",
              "      width: 32px;\n",
              "    }\n",
              "\n",
              "    .colab-df-convert:hover {\n",
              "      background-color: #E2EBFA;\n",
              "      box-shadow: 0px 1px 2px rgba(60, 64, 67, 0.3), 0px 1px 3px 1px rgba(60, 64, 67, 0.15);\n",
              "      fill: #174EA6;\n",
              "    }\n",
              "\n",
              "    [theme=dark] .colab-df-convert {\n",
              "      background-color: #3B4455;\n",
              "      fill: #D2E3FC;\n",
              "    }\n",
              "\n",
              "    [theme=dark] .colab-df-convert:hover {\n",
              "      background-color: #434B5C;\n",
              "      box-shadow: 0px 1px 3px 1px rgba(0, 0, 0, 0.15);\n",
              "      filter: drop-shadow(0px 1px 2px rgba(0, 0, 0, 0.3));\n",
              "      fill: #FFFFFF;\n",
              "    }\n",
              "  </style>\n",
              "\n",
              "      <script>\n",
              "        const buttonEl =\n",
              "          document.querySelector('#df-7239645f-22a1-4b5c-9e33-30d599ed24a5 button.colab-df-convert');\n",
              "        buttonEl.style.display =\n",
              "          google.colab.kernel.accessAllowed ? 'block' : 'none';\n",
              "\n",
              "        async function convertToInteractive(key) {\n",
              "          const element = document.querySelector('#df-7239645f-22a1-4b5c-9e33-30d599ed24a5');\n",
              "          const dataTable =\n",
              "            await google.colab.kernel.invokeFunction('convertToInteractive',\n",
              "                                                     [key], {});\n",
              "          if (!dataTable) return;\n",
              "\n",
              "          const docLinkHtml = 'Like what you see? Visit the ' +\n",
              "            '<a target=\"_blank\" href=https://colab.research.google.com/notebooks/data_table.ipynb>data table notebook</a>'\n",
              "            + ' to learn more about interactive tables.';\n",
              "          element.innerHTML = '';\n",
              "          dataTable['output_type'] = 'display_data';\n",
              "          await google.colab.output.renderOutput(dataTable, element);\n",
              "          const docLink = document.createElement('div');\n",
              "          docLink.innerHTML = docLinkHtml;\n",
              "          element.appendChild(docLink);\n",
              "        }\n",
              "      </script>\n",
              "    </div>\n",
              "  </div>\n",
              "  "
            ]
          },
          "metadata": {},
          "execution_count": 12
        }
      ]
    },
    {
      "cell_type": "code",
      "source": [
        "# extract rata-rata:\n",
        "media = np.mean(dataset['len'])\n",
        "\n",
        "print(\"Jumlah rata-rata karakter di tweet: {}\".format(media))"
      ],
      "metadata": {
        "colab": {
          "base_uri": "https://localhost:8080/",
          "height": 0
        },
        "id": "yzPVBmQxkJ_S",
        "outputId": "044e7f46-0eab-44c9-c9dd-8f2cc819600d"
      },
      "execution_count": 13,
      "outputs": [
        {
          "output_type": "stream",
          "name": "stdout",
          "text": [
            "Jumlah rata-rata karakter di tweet: 90.175\n"
          ]
        }
      ]
    },
    {
      "cell_type": "code",
      "source": [
        "# Kami mengekstrak tweet dengan FAV paling banyak dan dengan RT terbanyak:\n",
        "\n",
        "fav_max = np.max(dataset['Likes'])\n",
        "rt_max  = np.max(dataset['RTs'])\n",
        "\n",
        "fav = dataset[dataset.Likes == fav_max].index[0]\n",
        "rt  = dataset[dataset.RTs == rt_max].index[0]\n",
        "\n",
        "# Max FAVs:\n",
        "print(\"Tweet yang paling banyak disukai adalah: \\n{}\".format(dataset['Tweets'][fav]))\n",
        "print(\"Jumlah suka: {}\".format(fav_max))\n",
        "print(\"{} Characters.\\n\".format(dataset['len'][fav]))"
      ],
      "metadata": {
        "colab": {
          "base_uri": "https://localhost:8080/",
          "height": 0
        },
        "id": "7dPAAdJCkc8w",
        "outputId": "cca46aab-611c-4c60-bef9-fe50db02a339"
      },
      "execution_count": 14,
      "outputs": [
        {
          "output_type": "stream",
          "name": "stdout",
          "text": [
            "Tweet yang paling banyak disukai adalah: \n",
            "@ManUtd @Cristiano Welcome home @Cristiano 🙌🔴\n",
            "Jumlah suka: 175966\n",
            "45 Characters.\n",
            "\n"
          ]
        }
      ]
    },
    {
      "cell_type": "code",
      "source": [
        "# Max RTs:\n",
        "print(\"Tweet dengan retweet terbanyak adalah: \\n{}\".format(dataset['Tweets'][rt]))\n",
        "print(\"Jumlah retweet: {}\".format(rt_max))\n",
        "print(\"{} Characters.\\n\".format(dataset['len'][rt]))"
      ],
      "metadata": {
        "colab": {
          "base_uri": "https://localhost:8080/",
          "height": 0
        },
        "id": "gknjaziekifC",
        "outputId": "c6315f7a-eee8-4429-aadd-229b80067908"
      },
      "execution_count": 15,
      "outputs": [
        {
          "output_type": "stream",
          "name": "stdout",
          "text": [
            "Tweet dengan retweet terbanyak adalah: \n",
            "RT @ManUtd: 🇵🇹🔴 𝗩𝗜𝗩𝗔 𝗥𝗢𝗡𝗔𝗟𝗗𝗢 🔴🇵🇹\n",
            "\n",
            "🏡 @Cristiano is back!\n",
            "\n",
            "#MUFC | #RonaldoReturns\n",
            "Jumlah retweet: 86032\n",
            "80 Characters.\n",
            "\n"
          ]
        }
      ]
    },
    {
      "cell_type": "code",
      "source": [
        "tlen = pd.Series(data=dataset['len'].values, index=dataset['Created'])\n",
        "tfav = pd.Series(data=dataset['Likes'].values, index=dataset['Created'])\n",
        "tret = pd.Series(data=dataset['RTs'].values, index=dataset['Created'])"
      ],
      "metadata": {
        "id": "AzXjUp44km5G"
      },
      "execution_count": 16,
      "outputs": []
    },
    {
      "cell_type": "code",
      "source": [
        "tlen.plot(figsize=(16,4), color='r');"
      ],
      "metadata": {
        "colab": {
          "base_uri": "https://localhost:8080/",
          "height": 277
        },
        "id": "uoZGT22ZkrKP",
        "outputId": "3bb6f410-7f76-44b1-f3c3-44bc176a3bf4"
      },
      "execution_count": 17,
      "outputs": [
        {
          "output_type": "display_data",
          "data": {
            "text/plain": [
              "<Figure size 1152x288 with 1 Axes>"
            ],
            "image/png": "[encoded data removed]"
          },
          "metadata": {
            "needs_background": "light"
          }
        }
      ]
    },
    {
      "cell_type": "code",
      "source": [
        "tfav.plot(figsize=(16,4), label=\"Likes\", legend=True)\n",
        "tret.plot(figsize=(16,4), label=\"Retweets\", legend=True);"
      ],
      "metadata": {
        "colab": {
          "base_uri": "https://localhost:8080/",
          "height": 277
        },
        "id": "g0vJDWJHkvEC",
        "outputId": "be28472f-18b7-4588-b541-9b068df3396e"
      },
      "execution_count": 18,
      "outputs": [
        {
          "output_type": "display_data",
          "data": {
            "text/plain": [
              "<Figure size 1152x288 with 1 Axes>"
            ],
            "image/png": "[encoded data removed]"
          },
          "metadata": {
            "needs_background": "light"
          }
        }
      ]
    },
    {
      "cell_type": "code",
      "source": [
        "sources = []\n",
        "for source in dataset['Source']:\n",
        "    if source not in sources:\n",
        "        sources.append(source)\n",
        "\n",
        "# pembuatan:\n",
        "print(\"Sumber pembuatan konten:\")\n",
        "for source in sources:\n",
        "    print(\"* {}\".format(source))"
      ],
      "metadata": {
        "colab": {
          "base_uri": "https://localhost:8080/",
          "height": 0
        },
        "id": "sYAa5sTakyq9",
        "outputId": "ada5399b-b6a6-4edc-88a4-5e294d827308"
      },
      "execution_count": 19,
      "outputs": [
        {
          "output_type": "stream",
          "name": "stdout",
          "text": [
            "Sumber pembuatan konten:\n",
            "* Twitter for iPhone\n"
          ]
        }
      ]
    },
    {
      "cell_type": "code",
      "source": [
        "percent = np.zeros(len(sources))\n",
        "\n",
        "for source in dataset['Source']:\n",
        "    for index in range(len(sources)):\n",
        "        if source == sources[index]:\n",
        "            percent[index] += 1\n",
        "            pass\n",
        "\n",
        "percent /= 100\n",
        "\n",
        "# Pie chart:\n",
        "pie_chart = pd.Series(percent, index=sources, name='Sources')\n",
        "pie_chart.plot.pie(fontsize=11, autopct='%.2f', figsize=(6, 6));"
      ],
      "metadata": {
        "colab": {
          "base_uri": "https://localhost:8080/",
          "height": 357
        },
        "id": "piwi3c-kk32p",
        "outputId": "c2ec3fac-0551-409f-b368-7c6d9f57d2ef"
      },
      "execution_count": 20,
      "outputs": [
        {
          "output_type": "display_data",
          "data": {
            "text/plain": [
              "<Figure size 432x432 with 1 Axes>"
            ],
            "image/png": "[encoded data removed]"
          },
          "metadata": {}
        }
      ]
    },
    {
      "cell_type": "code",
      "source": [
        "dataset.to_csv('dataset_user.csv',sep=';')"
      ],
      "metadata": {
        "id": "-eMJveFuk7cd"
      },
      "execution_count": 21,
      "outputs": []
    }
  ]
}